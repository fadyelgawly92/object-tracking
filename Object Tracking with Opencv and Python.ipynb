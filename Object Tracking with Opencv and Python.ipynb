{
 "cells": [
  {
   "cell_type": "code",
   "execution_count": null,
   "id": "f777509a",
   "metadata": {},
   "outputs": [],
   "source": [
    "!pip install opencv-python"
   ]
  },
  {
   "cell_type": "code",
   "execution_count": null,
   "id": "c2539b05",
   "metadata": {},
   "outputs": [],
   "source": [
    "import cv2\n",
    "from tracker import *\n",
    "\n",
    "#create tracker object\n",
    "tracker = EuclideanDistTracker()\n",
    "\n",
    "\n",
    "cap = cv2.VideoCapture(\"highway.mp4\")\n",
    "\n",
    "\n",
    "#object detection from stable camera\n",
    "object_detector = cv2.createBackgroundSubtractorMOG2(history=100, varThreshold=40)\n",
    "\n",
    "while True:\n",
    "    ret , frame = cap.read()\n",
    "    height,width,_ = frame.shape\n",
    "    \n",
    "    #extract region of interest\n",
    "    roi = frame[340:720,500:800]\n",
    "    \n",
    "    \n",
    "    # 1.object detection\n",
    "    mask = object_detector.apply(roi)\n",
    "    _,mask = cv2.threshold(mask,254,255,cv2.THRESH_BINARY)\n",
    "    contours,_ = cv2.findContours(mask, cv2.RETR_TREE,cv2.CHAIN_APPROX_SIMPLE)\n",
    "    detections = []\n",
    "    \n",
    "    for cnt in contours:\n",
    "        # calculate area and remove small elements\n",
    "        area = cv2.contourArea(cnt)\n",
    "        if area > 100:\n",
    "#             cv2.drawContours(roi,[cnt],-1,(0,255,0),2)\n",
    "            x,y,w,h = cv2.boundingRect(cnt)\n",
    "            cv2.rectangle(roi,(x,y),(x+w,y+h),(0,255,0),3)\n",
    "            \n",
    "            detections.append([x,y,w,h])\n",
    "    \n",
    "    if not ret:\n",
    "        break\n",
    "    \n",
    "#     frame = cv2.cvtColor(frame,cv2.COLOR_BGR2RGB)\n",
    "    \n",
    "    \n",
    "    # 2.object tracking\n",
    "    boxes_ids = tracker.update(detections)\n",
    "    for box_id in boxes_ids:\n",
    "        x,y,w,h,id_number = box_id\n",
    "        cv2.putText(roi,str(id_number),(x,y-15),cv2.FONT_HERSHEY_PLAIN,2,(0,0,255),2)\n",
    "        cv2.rectangle(roi,(x,y),(x+w,y+h),(0,255,0),3)\n",
    "    \n",
    "    \n",
    "    cv2.imshow('roi',roi)\n",
    "    cv2.imshow('Frame',frame)\n",
    "    cv2.imshow('Mask',mask)\n",
    "    \n",
    "    key = cv2.waitKey(30)\n",
    "    if key == 27:\n",
    "        break\n",
    "\n",
    "\n",
    "cap.release()\n",
    "cv2.destroyAllWindows()"
   ]
  },
  {
   "cell_type": "code",
   "execution_count": null,
   "id": "79d8711f",
   "metadata": {},
   "outputs": [],
   "source": []
  }
 ],
 "metadata": {
  "kernelspec": {
   "display_name": "Python 3",
   "language": "python",
   "name": "python3"
  },
  "language_info": {
   "codemirror_mode": {
    "name": "ipython",
    "version": 3
   },
   "file_extension": ".py",
   "mimetype": "text/x-python",
   "name": "python",
   "nbconvert_exporter": "python",
   "pygments_lexer": "ipython3",
   "version": "3.8.8"
  }
 },
 "nbformat": 4,
 "nbformat_minor": 5
}
